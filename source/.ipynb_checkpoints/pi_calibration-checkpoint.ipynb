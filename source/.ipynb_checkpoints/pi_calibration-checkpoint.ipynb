{
 "cells": [
  {
   "cell_type": "code",
   "execution_count": 1,
   "id": "ecd86d60-8f48-409f-96c6-720a44ef8ddf",
   "metadata": {},
   "outputs": [],
   "source": [
    "import numpy as np\n",
    "import math\n",
    "import qiskit\n",
    "import matplotlib.pyplot as plt\n",
    "from scipy.optimize import curve_fit\n",
    "\n",
    "# Importing standard Qiskit libraries\n",
    "from qiskit import QuantumCircuit, transpile, Aer, IBMQ\n",
    "from qiskit.tools.jupyter import *\n",
    "from qiskit.visualization import *\n",
    "from ibm_quantum_widgets import *\n",
    "from qiskit.providers.aer import QasmSimulator\n",
    "\n",
    "import warnings\n",
    "warnings.filterwarnings('ignore')\n",
    "from qiskit.tools.jupyter import *\n",
    "\n",
    "import matplotlib.pyplot as plt\n",
    "from qiskit import pulse\n",
    "from qiskit.pulse.library import Gaussian\n",
    "from qiskit.tools.monitor import job_monitor\n",
    "\n",
    "from qiskit import pulse                  # This is where we access all of our Pulse features!\n",
    "from qiskit.circuit import Parameter      # This is Parameter Class for variable parameters.\n",
    "from qiskit.circuit import QuantumCircuit, Gate\n",
    "from qiskit import schedule\n",
    "\n",
    "from qiskit import IBMQ\n",
    "\n",
    "# Loading your IBM Quantum account(s)\n",
    "provider = IBMQ.enable_account('0e735a94ae0929e749cb5f364ae8d53fddcf03e8eeb83bec2837b15e6521c40419b88b4764a17823f0c1b1f8b7bcaba8682f6dbab9aa1807fd4888adb87a3b9c')"
   ]
  },
  {
   "cell_type": "code",
   "execution_count": 2,
   "id": "2df2de45-5e9c-42a0-b36b-4f5ac9f9cf34",
   "metadata": {},
   "outputs": [],
   "source": [
    "provider = IBMQ.get_provider(hub='ibm-q-internal', group='dev-sys-software', project='internal-test')\n",
    "backend = provider.get_backend('ibm_wellington')"
   ]
  },
  {
   "cell_type": "code",
   "execution_count": 3,
   "id": "6720cc16-ba08-4691-992c-9f1641a513b8",
   "metadata": {},
   "outputs": [],
   "source": [
    "backend_config = backend.configuration()"
   ]
  },
  {
   "cell_type": "code",
   "execution_count": 4,
   "id": "d87abb96-947e-4c56-840f-284031aed9c7",
   "metadata": {},
   "outputs": [
    {
     "name": "stdout",
     "output_type": "stream",
     "text": [
      "2.2222222222222221e-10\n",
      "Sampling time: 0.2222222222222222 ns\n"
     ]
    }
   ],
   "source": [
    "dt = backend_config.dt\n",
    "print(dt)\n",
    "print(f\"Sampling time: {dt*1e9} ns\")    # The configuration returns dt in seconds, so multiply by\n",
    "                                        # 1e9 to get nanoseconds"
   ]
  },
  {
   "cell_type": "code",
   "execution_count": 5,
   "id": "7bc08a43-b665-4f5d-9d43-73b685d64260",
   "metadata": {},
   "outputs": [],
   "source": [
    "acquire_alignment = backend.configuration().timing_constraints['acquire_alignment']\n",
    "granularity = backend.configuration().timing_constraints['granularity']\n",
    "pulse_alignment = backend.configuration().timing_constraints['pulse_alignment']"
   ]
  },
  {
   "cell_type": "code",
   "execution_count": 6,
   "id": "feaad9d4-989d-4523-8377-0c5f89403244",
   "metadata": {},
   "outputs": [
    {
     "name": "stdout",
     "output_type": "stream",
     "text": [
      "Least common multiple of acquire_alignment and pulse_alignment: 16\n"
     ]
    }
   ],
   "source": [
    "lcm = np.lcm(acquire_alignment, pulse_alignment)\n",
    "print(f\"Least common multiple of acquire_alignment and pulse_alignment: {lcm}\")"
   ]
  },
  {
   "cell_type": "code",
   "execution_count": 7,
   "id": "63b39722-e8e5-4a5f-a2a0-affb00d6d5fa",
   "metadata": {},
   "outputs": [],
   "source": [
    "backend_defaults = backend.defaults()"
   ]
  },
  {
   "cell_type": "code",
   "execution_count": 8,
   "id": "e8c18796-5e31-41fd-b915-ef8e10812700",
   "metadata": {},
   "outputs": [
    {
     "name": "stdout",
     "output_type": "stream",
     "text": [
      "<PulseDefaults(<InstructionScheduleMap(1Q instructions:\n",
      "  q0: {'rz', 'u2', 'u1', 'sx', 'measure', 'u3', 'x', 'id'}\n",
      "  q1: {'rz', 'u2', 'u1', 'sx', 'measure', 'u3', 'x', 'id'}\n",
      "  q2: {'rz', 'u2', 'u1', 'sx', 'measure', 'u3', 'x', 'id'}\n",
      "  q3: {'rz', 'u2', 'u1', 'sx', 'measure', 'u3', 'x', 'id'}\n",
      "  q4: {'rz', 'u2', 'u1', 'sx', 'measure', 'u3', 'x', 'id'}\n",
      "  q5: {'rz', 'u2', 'u1', 'sx', 'measure', 'u3', 'x', 'id'}\n",
      "  q6: {'rz', 'u2', 'u1', 'sx', 'measure', 'u3', 'x', 'id'}\n",
      "Multi qubit instructions:\n",
      "  (0, 1): {'cx'}\n",
      "  (1, 0): {'cx'}\n",
      "  (1, 2): {'cx'}\n",
      "  (1, 3): {'cx'}\n",
      "  (2, 1): {'cx'}\n",
      "  (3, 1): {'cx'}\n",
      "  (3, 5): {'cx'}\n",
      "  (4, 5): {'cx'}\n",
      "  (5, 3): {'cx'}\n",
      "  (5, 4): {'cx'}\n",
      "  (5, 6): {'cx'}\n",
      "  (6, 5): {'cx'}\n",
      "  (0, 1, 2, 3, 4, 5, 6): {'measure'}\n",
      ")>Qubit Frequencies [GHz]\n",
      "[5.034462633479231, 5.182047538074244, 5.276073986682213, 5.227357631503847, 5.229475826751349, 5.082554464342512, 5.14420696647381]\n",
      "Measurement Frequencies [GHz]\n",
      "[7.292798056, 7.330099313, 7.235316026, 7.142999186, 7.218115556, 7.088999442, 7.33457748] )>\n"
     ]
    }
   ],
   "source": [
    "print(backend_defaults)"
   ]
  },
  {
   "cell_type": "code",
   "execution_count": 9,
   "id": "e7283a81-6774-49e1-a6ae-155fbea23fea",
   "metadata": {
    "tags": []
   },
   "outputs": [],
   "source": [
    "def get_closest_multiple_of(vaule, base_number):\n",
    "    return int(vaule + base_number/2) - (int(vaule + base_number/2) % base_number)"
   ]
  },
  {
   "cell_type": "code",
   "execution_count": 10,
   "id": "b923434a-a210-4ce4-8c5c-5bda3a036f41",
   "metadata": {},
   "outputs": [],
   "source": [
    "# samples need to be multiples of 16\n",
    "def get_closest_multiple_of_16(num):\n",
    "    return get_closest_multiple_of(num, 16)"
   ]
  },
  {
   "cell_type": "code",
   "execution_count": 11,
   "id": "bb39bb4e-b09a-4c8a-b05a-bc745e4cd26d",
   "metadata": {},
   "outputs": [],
   "source": [
    "# Convert seconds to dt\n",
    "def get_dt_from(sec):\n",
    "    return get_closest_multiple_of(sec/dt, lcm)"
   ]
  },
  {
   "cell_type": "code",
   "execution_count": 12,
   "id": "9cf46995-8f3d-47da-afab-af322d6b95a0",
   "metadata": {},
   "outputs": [
    {
     "name": "stdout",
     "output_type": "stream",
     "text": [
      "5.034462633479231\n",
      "[0, 1, 2, 3, 4, 5, 6]\n"
     ]
    }
   ],
   "source": [
    "# unit conversion factors -> all backend properties returned in SI (Hz, sec, etc.)\n",
    "GHz = 1.0e9 # Gigahertz\n",
    "MHz = 1.0e6 # Megahertz\n",
    "us = 1.0e-6 # Microseconds\n",
    "ns = 1.0e-9 # Nanoseconds\n",
    "\n",
    "# We will find the qubit frequency for the following qubit.\n",
    "qubit = 0\n",
    "classical_register = 0\n",
    "\n",
    "# scale factor to remove factors of 10 from the data\n",
    "scale_factor = 1e-7\n",
    "\n",
    "# Drive pulse parameters (us = microseconds)\n",
    "drive_sigma_sec = 0.015 * us                          # This determines the actual width of the gaussian\n",
    "drive_duration_sec = drive_sigma_sec * 8                # This is a truncating parameter, because gaussians don't have \n",
    "                                                        # a natural finite length\n",
    "drive_amp = 0.05 # this is scaled to 1.0. \n",
    "\n",
    "# We will find the qubit frequency for the following qubit.\n",
    "center_frequency_Hz = backend_defaults.qubit_freq_est[qubit]\n",
    "rough_qubit_frequency = center_frequency_Hz\n",
    "print(rough_qubit_frequency/GHz)\n",
    "\n",
    "num_qubits = len(backend_defaults.qubit_freq_est)\n",
    "qubits = [i for i in range(num_qubits)]\n",
    "print(qubits)"
   ]
  },
  {
   "cell_type": "markdown",
   "id": "b8923ecb-dccd-4354-90c0-e086abce4cbb",
   "metadata": {
    "tags": []
   },
   "source": [
    "## $\\pi$ pulse calibration for qubit1"
   ]
  },
  {
   "cell_type": "code",
   "execution_count": 13,
   "id": "d4985065-8594-4167-b5e1-84f8a233d9db",
   "metadata": {},
   "outputs": [],
   "source": [
    "# This experiment uses these values from the previous experiment:\n",
    "# `qubit`,and\n",
    "# `rough_qubit_frequency`.\n",
    "\n",
    "# Rabi experiment parameters\n",
    "num_rabi_points = 50\n",
    "\n",
    "# Drive amplitude values to iterate over: 50 amplitudes evenly spaced from 0 to 0.75\n",
    "drive_amp_min = 0\n",
    "drive_amp_max = 0.75\n",
    "drive_amps = np.linspace(drive_amp_min, drive_amp_max, num_rabi_points)"
   ]
  },
  {
   "cell_type": "code",
   "execution_count": 14,
   "id": "7b9bc367-df44-4750-aee8-b74f06057e90",
   "metadata": {},
   "outputs": [],
   "source": [
    "# Build the Rabi experiments:\n",
    "#    A drive pulse at the qubit frequency, followed by a measurement,\n",
    "#    where we vary the drive amplitude each time.\n",
    "\n",
    "drive_amp = Parameter('drive_amp')\n",
    "with pulse.build(backend=backend, default_alignment='sequential', name='Rabi Experiment') as rabi_sched:\n",
    "    drive_duration = get_closest_multiple_of_16(pulse.seconds_to_samples(drive_duration_sec))\n",
    "    drive_sigma = pulse.seconds_to_samples(drive_sigma_sec)\n",
    "    drive_chan = pulse.drive_channel(qubit)\n",
    "    pulse.set_frequency(rough_qubit_frequency, drive_chan)\n",
    "    pulse.play(pulse.Gaussian(duration=drive_duration,\n",
    "                              amp=drive_amp,\n",
    "                              sigma=drive_sigma,\n",
    "                              name='Rabi Pulse'), drive_chan)"
   ]
  },
  {
   "cell_type": "code",
   "execution_count": 15,
   "id": "6592218e-b66b-4810-8d32-33acc21ecd73",
   "metadata": {},
   "outputs": [],
   "source": [
    "rabi_gate = Gate(\"rabi\", 1, [drive_amp])\n",
    "\n",
    "qc_rabi = QuantumCircuit(num_qubits, 1)\n",
    "\n",
    "qc_rabi.append(rabi_gate, [qubit])\n",
    "qc_rabi.measure(qubit, classical_register)\n",
    "qc_rabi.add_calibration(rabi_gate, (qubit,), rabi_sched, [drive_amp])\n",
    "\n",
    "exp_rabi_circs = [qc_rabi.assign_parameters({drive_amp: a}, inplace=False) for a in drive_amps]"
   ]
  },
  {
   "cell_type": "code",
   "execution_count": 16,
   "id": "aa5c2263-ce0b-4825-a84f-c0997eb3d73a",
   "metadata": {},
   "outputs": [
    {
     "data": {
      "image/png": "[encoded data removed]",
      "text/plain": [
       "<Figure size 1300x330 with 1 Axes>"
      ]
     },
     "execution_count": 16,
     "metadata": {},
     "output_type": "execute_result"
    }
   ],
   "source": [
    "rabi_schedule = schedule(exp_rabi_circs[-1], backend)\n",
    "rabi_schedule.draw(backend=backend)"
   ]
  },
  {
   "cell_type": "code",
   "execution_count": 17,
   "id": "2f31dde3-998c-4a3f-a743-9736f7e184c8",
   "metadata": {},
   "outputs": [
    {
     "name": "stdout",
     "output_type": "stream",
     "text": [
      "Job Status: job has successfully run\n"
     ]
    }
   ],
   "source": [
    "num_shots_per_point = 1024\n",
    "\n",
    "job = backend.run(exp_rabi_circs, \n",
    "                  meas_level=1, \n",
    "                  meas_return='avg', \n",
    "                  shots=num_shots_per_point)\n",
    "\n",
    "job_monitor(job)"
   ]
  },
  {
   "cell_type": "code",
   "execution_count": 18,
   "id": "11b9575e-5585-436f-b7b9-c612ece36074",
   "metadata": {},
   "outputs": [],
   "source": [
    "rabi_results = job.result(timeout=120)"
   ]
  },
  {
   "cell_type": "code",
   "execution_count": 17,
   "id": "5ef97a2a",
   "metadata": {},
   "outputs": [],
   "source": [
    "job_id = \"6308eeb8bf727df04401267e\"\n",
    "job = provider.get_backend('ibm_wellington').retrieve_job(job_id)\n",
    "rabi_results = job.result(timeout=120)"
   ]
  },
  {
   "cell_type": "code",
   "execution_count": 18,
   "id": "36ecf3ed-98d2-40de-9ae9-5e9d90645492",
   "metadata": {},
   "outputs": [],
   "source": [
    "# center data around 0\n",
    "def baseline_remove(values):\n",
    "    return np.array(values) - np.mean(values)"
   ]
  },
  {
   "cell_type": "code",
   "execution_count": 19,
   "id": "9a456669-5686-4b50-ba07-dfc4fa2bf9c6",
   "metadata": {},
   "outputs": [
    {
     "data": {
      "image/png": "[encoded data removed]",
      "text/plain": [
       "<Figure size 640x480 with 1 Axes>"
      ]
     },
     "metadata": {},
     "output_type": "display_data"
    }
   ],
   "source": [
    "rabi_values = []\n",
    "for i in range(num_rabi_points):\n",
    "    # Get the results for `qubit` from the ith experiment\n",
    "    rabi_values.append(rabi_results.get_memory(i)[classical_register] * scale_factor)\n",
    "\n",
    "rabi_values = np.real(baseline_remove(rabi_values))\n",
    "\n",
    "plt.xlabel(\"Drive amp [a.u.]\")\n",
    "plt.ylabel(\"Measured signal [a.u.]\")\n",
    "plt.scatter(drive_amps, rabi_values, color='black') # plot real part of Rabi values\n",
    "plt.show()"
   ]
  },
  {
   "cell_type": "code",
   "execution_count": 20,
   "id": "f3e9e894-26a3-4e18-bd7c-43f45da57ade",
   "metadata": {},
   "outputs": [],
   "source": [
    "from scipy.optimize import curve_fit\n",
    "\n",
    "def fit_function(x_values, y_values, function, init_params):\n",
    "    fitparams, conv = curve_fit(function, x_values, y_values, init_params)\n",
    "    y_fit = function(x_values, *fitparams)\n",
    "    \n",
    "    return fitparams, y_fit"
   ]
  },
  {
   "cell_type": "code",
   "execution_count": 21,
   "id": "028ec0ad-3c1f-4d1e-b6da-a539ac8176bc",
   "metadata": {},
   "outputs": [
    {
     "data": {
      "image/png": "[encoded data removed]",
      "text/plain": [
       "<Figure size 640x480 with 1 Axes>"
      ]
     },
     "metadata": {},
     "output_type": "display_data"
    }
   ],
   "source": [
    "fit_params, y_fit = fit_function(drive_amps,\n",
    "                                 rabi_values, \n",
    "                                 lambda x, A, B, drive_period, phi: (A*np.cos(2*np.pi*x/drive_period - phi) + B),\n",
    "                                 [3, 0, 0.2, 0])\n",
    "\n",
    "plt.scatter(drive_amps, rabi_values, color='black')\n",
    "plt.plot(drive_amps, y_fit, color='red')\n",
    "\n",
    "drive_period = fit_params[2] # get period of rabi oscillation\n",
    "\n",
    "plt.axvline(drive_period/2, color='red', linestyle='--')\n",
    "plt.axvline(drive_period, color='red', linestyle='--')\n",
    "plt.annotate(\"\", xy=(drive_period, 0), xytext=(drive_period/2,0), arrowprops=dict(arrowstyle=\"<->\", color='red'))\n",
    "plt.annotate(\"$\\pi$\", xy=(drive_period/2-0.03, 0.1), color='red')\n",
    "\n",
    "plt.xlabel(\"Drive amp [a.u.]\", fontsize=15)\n",
    "plt.ylabel(\"Measured signal [a.u.]\", fontsize=15)\n",
    "plt.show()"
   ]
  },
  {
   "cell_type": "code",
   "execution_count": 22,
   "id": "8db48d34-69fd-4148-b1fe-91b6219fdf59",
   "metadata": {},
   "outputs": [
    {
     "name": "stdout",
     "output_type": "stream",
     "text": [
      "Pi Amplitude = 0.11759467639083004\n"
     ]
    }
   ],
   "source": [
    "pi_amp_qubit = abs(drive_period / 2)\n",
    "print(f\"Pi Amplitude = {pi_amp_qubit}\")"
   ]
  },
  {
   "cell_type": "markdown",
   "id": "64be04a4-be39-407d-ac39-4f71f0a81d17",
   "metadata": {},
   "source": [
    "## $\\pi/2$ pulse qubit1 calculation"
   ]
  },
  {
   "cell_type": "code",
   "execution_count": 23,
   "id": "ca7261c3-d359-4c03-865e-a2af1e208ffb",
   "metadata": {},
   "outputs": [
    {
     "name": "stdout",
     "output_type": "stream",
     "text": [
      "Pi Amplitude = 0.05879733819541502\n"
     ]
    }
   ],
   "source": [
    "pi_over_2_amp_qubit = abs(pi_amp_qubit / 2)\n",
    "print(f\"Pi Amplitude = {pi_over_2_amp_qubit}\")"
   ]
  },
  {
   "cell_type": "code",
   "execution_count": 24,
   "id": "414b82dc-508d-4c1c-852e-17c10c1f3afd",
   "metadata": {},
   "outputs": [],
   "source": [
    "with pulse.build(backend) as pi_over_2_pulse:\n",
    "    drive_duration = get_closest_multiple_of_16(pulse.seconds_to_samples(drive_duration_sec))\n",
    "    drive_sigma = pulse.seconds_to_samples(drive_sigma_sec)\n",
    "    drive_chan = pulse.drive_channel(qubit)\n",
    "    pulse.play(pulse.Gaussian(duration=drive_duration,\n",
    "                              amp=pi_over_2_amp_qubit,\n",
    "                              sigma=drive_sigma,\n",
    "                              name='pi_over_2_pulse'), drive_chan)"
   ]
  },
  {
   "cell_type": "markdown",
   "id": "bb011b6b",
   "metadata": {},
   "source": [
    "## Spinlocker Test"
   ]
  },
  {
   "cell_type": "code",
   "execution_count": 25,
   "id": "8ea4213c-f731-45fe-a302-5839ca757947",
   "metadata": {},
   "outputs": [],
   "source": [
    "from spinlocker import T1rho\n",
    "\n",
    "min_drive_sigma_sec = 0.015 * 1e-6                           \n",
    "max_drive_sigma_sec = 50 * 1e-6\n",
    "min_drive_duration_sec = min_drive_sigma_sec * 8\n",
    "max_drive_duration_sec = max_drive_sigma_sec * 8\n",
    "durations = np.linspace(min_drive_duration_sec, max_drive_duration_sec, num=50)"
   ]
  },
  {
   "cell_type": "code",
   "execution_count": 26,
   "id": "acfda76b",
   "metadata": {},
   "outputs": [],
   "source": [
    "exp = T1rho(qubit,\n",
    "        qubits,\n",
    "        pi_amp_qubit,\n",
    "        drive_sigma_sec, # This determines the actual width of the gaussian\n",
    "        pi_over_2_pulse, # note sure if we pass this in here or if this is the right type\n",
    "        durations, \n",
    "        #pulse.drive_channel(qubit), #not sure i need this\n",
    "        backend,\n",
    "    )"
   ]
  },
  {
   "cell_type": "code",
   "execution_count": null,
   "id": "4834536e",
   "metadata": {},
   "outputs": [],
   "source": [
    "exp_data = exp.run(backend=backend).block_for_results()"
   ]
  },
  {
   "cell_type": "code",
   "execution_count": null,
   "id": "a0472442",
   "metadata": {},
   "outputs": [],
   "source": [
    "display(exp_data.figure(0))\n",
    "for result in exp_data.analysis_results():\n",
    "    print(result)"
   ]
  },
  {
   "cell_type": "code",
   "execution_count": null,
   "id": "0e8d1fe4",
   "metadata": {},
   "outputs": [],
   "source": [
    "# More comprehensive documentation on what I ran, what i found, when we made changes, high level overview of results (things I tried and how far we got)\n",
    "# okay to include description of early stuff (tried running T2 and T2CPMG but got stuck for reason x...) we should know where all of these threads finished and the errors"
   ]
  },
  {
   "cell_type": "code",
   "execution_count": null,
   "id": "c057e6e9",
   "metadata": {},
   "outputs": [],
   "source": [
    "# dont have to do full qiskit experiments test suite becuase this is extension; can push this to public github (and add kevin as collaborator); setup new repository (do with kevin tomorrow morning)"
   ]
  }
 ],
 "metadata": {
  "kernelspec": {
   "display_name": "Python 3 (ipykernel)",
   "language": "python",
   "name": "python3"
  },
  "language_info": {
   "codemirror_mode": {
    "name": "ipython",
    "version": 3
   },
   "file_extension": ".py",
   "mimetype": "text/x-python",
   "name": "python",
   "nbconvert_exporter": "python",
   "pygments_lexer": "ipython3",
   "version": "3.10.4"
  },
  "widgets": {
   "application/vnd.jupyter.widget-state+json": {
    "state": {
     "0471664b7c2d435a9477b86ecaae89f7": {
      "model_module": "@jupyter-widgets/controls",
      "model_module_version": "1.5.0",
      "model_name": "HBoxModel",
      "state": {
       "children": [
        "IPY_MODEL_882aa61969b44ebb9dc4c852f7df0a73",
        "IPY_MODEL_b75d645a74214ca18a17d6d833ca43e0",
        "IPY_MODEL_50dcd4ad7f7f44f997ec03a3c94955b9",
        "IPY_MODEL_578ef388ea924a918a0b703ebc7869b8",
        "IPY_MODEL_488dbb9726844eddbe87c9415ee7e59a"
       ],
       "layout": "IPY_MODEL_1d26971fefbf4a988869712ba1693c6f"
      }
     },
     "1d26971fefbf4a988869712ba1693c6f": {
      "model_module": "@jupyter-widgets/base",
      "model_module_version": "1.2.0",
      "model_name": "LayoutModel",
      "state": {
       "margin": "0px 0px 0px 37px",
       "width": "600px"
      }
     },
     "20175e2c438441f1bec6e43344d9ec89": {
      "model_module": "@jupyter-widgets/controls",
      "model_module_version": "1.5.0",
      "model_name": "DescriptionStyleModel",
      "state": {
       "description_width": ""
      }
     },
     "2c820386e205495e836040fd9173dda3": {
      "model_module": "@jupyter-widgets/controls",
      "model_module_version": "1.5.0",
      "model_name": "DescriptionStyleModel",
      "state": {
       "description_width": ""
      }
     },
     "364f12e82e9d43d4acccb243175e92b6": {
      "model_module": "@jupyter-widgets/controls",
      "model_module_version": "1.5.0",
      "model_name": "DescriptionStyleModel",
      "state": {
       "description_width": ""
      }
     },
     "3ca4e97a05e2451a92b829c928be6549": {
      "model_module": "@jupyter-widgets/base",
      "model_module_version": "1.2.0",
      "model_name": "LayoutModel",
      "state": {
       "width": "190px"
      }
     },
     "488dbb9726844eddbe87c9415ee7e59a": {
      "model_module": "@jupyter-widgets/controls",
      "model_module_version": "1.5.0",
      "model_name": "HTMLModel",
      "state": {
       "layout": "IPY_MODEL_d024149ef01a4b9c9539f6df14cc2278",
       "style": "IPY_MODEL_e63cff2da6e646b3a6239f6f602c9296",
       "value": "<h5>Message</h5>"
      }
     },
     "50dcd4ad7f7f44f997ec03a3c94955b9": {
      "model_module": "@jupyter-widgets/controls",
      "model_module_version": "1.5.0",
      "model_name": "HTMLModel",
      "state": {
       "layout": "IPY_MODEL_d2df763aa7cd4100ad7565c1bd42ffdf",
       "style": "IPY_MODEL_b61bb999b17e4ca6ba808280f5ea4472",
       "value": "<h5>Status</h5>"
      }
     },
     "51abeb719d914079b2030608afb07776": {
      "model_module": "@jupyter-widgets/base",
      "model_module_version": "1.2.0",
      "model_name": "LayoutModel",
      "state": {
       "grid_template_areas": "\n                                       \". . . . right \"\n                                        ",
       "grid_template_columns": "20% 20% 20% 20% 20%",
       "width": "100%"
      }
     },
     "578ef388ea924a918a0b703ebc7869b8": {
      "model_module": "@jupyter-widgets/controls",
      "model_module_version": "1.5.0",
      "model_name": "HTMLModel",
      "state": {
       "layout": "IPY_MODEL_cf07f2652c5949fda1f7597c001f3e26",
       "style": "IPY_MODEL_2c820386e205495e836040fd9173dda3",
       "value": "<h5>Queue</h5>"
      }
     },
     "60f3c68e590d4cd696d65a890e0a3533": {
      "model_module": "@jupyter-widgets/controls",
      "model_module_version": "1.5.0",
      "model_name": "GridBoxModel",
      "state": {
       "children": [
        "IPY_MODEL_909ee7011d3a400ba54c614b1e5b9b82"
       ],
       "layout": "IPY_MODEL_51abeb719d914079b2030608afb07776"
      }
     },
     "61e2bee96dc348b3bb9651cc73cd3360": {
      "model_module": "@jupyter-widgets/controls",
      "model_module_version": "1.5.0",
      "model_name": "ButtonStyleModel",
      "state": {}
     },
     "882aa61969b44ebb9dc4c852f7df0a73": {
      "model_module": "@jupyter-widgets/controls",
      "model_module_version": "1.5.0",
      "model_name": "HTMLModel",
      "state": {
       "layout": "IPY_MODEL_3ca4e97a05e2451a92b829c928be6549",
       "style": "IPY_MODEL_aadbb2bb345446feb2fa6a7b43f6aaa8",
       "value": "<h5>Job ID</h5>"
      }
     },
     "8a71b288c67749609d2829d5d3f87509": {
      "model_module": "@jupyter-widgets/controls",
      "model_module_version": "1.5.0",
      "model_name": "HTMLModel",
      "state": {
       "layout": "IPY_MODEL_f96513329c0f407bb567306e5c983807",
       "style": "IPY_MODEL_20175e2c438441f1bec6e43344d9ec89",
       "value": "<p style='font-family: IBM Plex Sans, Arial, Helvetica, sans-serif; font-size: 20px; font-weight: medium;'>Circuit Properties</p>"
      }
     },
     "909ee7011d3a400ba54c614b1e5b9b82": {
      "model_module": "@jupyter-widgets/controls",
      "model_module_version": "1.5.0",
      "model_name": "ButtonModel",
      "state": {
       "button_style": "primary",
       "description": "Clear",
       "layout": "IPY_MODEL_c94b24c3113240f8a5a802995721d5d1",
       "style": "IPY_MODEL_61e2bee96dc348b3bb9651cc73cd3360"
      }
     },
     "aadbb2bb345446feb2fa6a7b43f6aaa8": {
      "model_module": "@jupyter-widgets/controls",
      "model_module_version": "1.5.0",
      "model_name": "DescriptionStyleModel",
      "state": {
       "description_width": ""
      }
     },
     "b61bb999b17e4ca6ba808280f5ea4472": {
      "model_module": "@jupyter-widgets/controls",
      "model_module_version": "1.5.0",
      "model_name": "DescriptionStyleModel",
      "state": {
       "description_width": ""
      }
     },
     "b75d645a74214ca18a17d6d833ca43e0": {
      "model_module": "@jupyter-widgets/controls",
      "model_module_version": "1.5.0",
      "model_name": "HTMLModel",
      "state": {
       "layout": "IPY_MODEL_d9ec71efd11641f3a9438884aca47247",
       "style": "IPY_MODEL_364f12e82e9d43d4acccb243175e92b6",
       "value": "<h5>Backend</h5>"
      }
     },
     "c94b24c3113240f8a5a802995721d5d1": {
      "model_module": "@jupyter-widgets/base",
      "model_module_version": "1.2.0",
      "model_name": "LayoutModel",
      "state": {
       "grid_area": "right",
       "padding": "0px 0px 0px 0px",
       "width": "70px"
      }
     },
     "cf07f2652c5949fda1f7597c001f3e26": {
      "model_module": "@jupyter-widgets/base",
      "model_module_version": "1.2.0",
      "model_name": "LayoutModel",
      "state": {
       "width": "70px"
      }
     },
     "d024149ef01a4b9c9539f6df14cc2278": {
      "model_module": "@jupyter-widgets/base",
      "model_module_version": "1.2.0",
      "model_name": "LayoutModel",
      "state": {}
     },
     "d2df763aa7cd4100ad7565c1bd42ffdf": {
      "model_module": "@jupyter-widgets/base",
      "model_module_version": "1.2.0",
      "model_name": "LayoutModel",
      "state": {
       "width": "95px"
      }
     },
     "d9ec71efd11641f3a9438884aca47247": {
      "model_module": "@jupyter-widgets/base",
      "model_module_version": "1.2.0",
      "model_name": "LayoutModel",
      "state": {
       "width": "145px"
      }
     },
     "e63cff2da6e646b3a6239f6f602c9296": {
      "model_module": "@jupyter-widgets/controls",
      "model_module_version": "1.5.0",
      "model_name": "DescriptionStyleModel",
      "state": {
       "description_width": ""
      }
     },
     "f96513329c0f407bb567306e5c983807": {
      "model_module": "@jupyter-widgets/base",
      "model_module_version": "1.2.0",
      "model_name": "LayoutModel",
      "state": {
       "margin": "0px 0px 10px 0px"
      }
     }
    },
    "version_major": 2,
    "version_minor": 0
   }
  }
 },
 "nbformat": 4,
 "nbformat_minor": 5
}
